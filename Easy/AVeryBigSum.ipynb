{
 "cells": [
  {
   "cell_type": "markdown",
   "metadata": {},
   "source": [
    "\n",
    "# Problem: A Very Big Sum\n",
    "\n",
    "In this challenge, you need to calculate and print the sum of elements in an array, considering that some integers may be very large.\n",
    "\n",
    "## Function Description\n",
    "\n",
    "Complete the `aVeryBigSum` function with the following parameter(s):\n",
    "- **int ar[n]**: an array of integers\n",
    "\n",
    "**Returns**:\n",
    "- **long**: the sum of the array elements\n",
    "\n",
    "## Input Format\n",
    "\n",
    "The first line of the input consists of an integer `n`.\n",
    "The next line contains `n` space-separated integers contained in the array.\n",
    "\n",
    "## Output Format\n",
    "\n",
    "Return the integer sum of the elements in the array.\n",
    "\n",
    "### Constraints:\n",
    "1 ≤ n ≤ 10  \n",
    "0 ≤ ar[i] ≤ 10^10\n",
    "\n",
    "## Sample Input\n",
    "```\n",
    "5\n",
    "1000000001 1000000002 1000000003 1000000004 1000000005\n",
    "```\n",
    "\n",
    "## Sample Output\n",
    "```\n",
    "5000000015\n",
    "```\n",
    "\n",
    "### Note:\n",
    "The range of the 32-bit integer is (-2^31) to (2^31 - 1) or [-2147483648, 2147483647].\n",
    "\n",
    "When we add several integer values, the resulting sum might exceed the above range. You might need to use long int C/C++/Java to store such sums.\n"
   ]
  },
  {
   "cell_type": "code",
   "execution_count": 1,
   "metadata": {},
   "outputs": [
    {
     "name": "stdout",
     "output_type": "stream",
     "text": [
      "5000000015\n"
     ]
    }
   ],
   "source": [
    "#!/bin/python3\n",
    "\n",
    "import math\n",
    "import os\n",
    "import random\n",
    "import re\n",
    "import sys\n",
    "\n",
    "#\n",
    "# Complete the 'aVeryBigSum' function below.\n",
    "#\n",
    "# The function is expected to return a LONG_INTEGER.\n",
    "# The function accepts LONG_INTEGER_ARRAY ar as parameter.\n",
    "#\n",
    "\n",
    "def aVeryBigSum(ar):\n",
    "    # Write your code here\n",
    "    return sum(ar)\n",
    "\n",
    "if __name__ == '__main__':\n",
    "    # Aquí puedes definir los valores de entrada directamente\n",
    "    ar_count = 5  # Número de elementos del arreglo (ejemplo)\n",
    "    ar = [1000000001, 1000000002, 1000000003, 1000000004, 1000000005]  # Lista de ejemplo\n",
    "\n",
    "    # Llamar a la función y obtener el resultado\n",
    "    result = aVeryBigSum(ar)\n",
    "\n",
    "    # Imprimir el resultado en la consola\n",
    "    print(result)\n"
   ]
  }
 ],
 "metadata": {
  "kernelspec": {
   "display_name": "Python 3",
   "language": "python",
   "name": "python3"
  },
  "language_info": {
   "codemirror_mode": {
    "name": "ipython",
    "version": 3
   },
   "file_extension": ".py",
   "mimetype": "text/x-python",
   "name": "python",
   "nbconvert_exporter": "python",
   "pygments_lexer": "ipython3",
   "version": "3.13.3"
  }
 },
 "nbformat": 4,
 "nbformat_minor": 2
}
