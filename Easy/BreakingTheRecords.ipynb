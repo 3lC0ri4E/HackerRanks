{
 "cells": [
  {
   "cell_type": "markdown",
   "metadata": {},
   "source": [
    "\n",
    "# Breaking the Records\n",
    "\n",
    "Maria plays college basketball and wants to go pro. Each season, she maintains a record of her play, tabulating the number of times she breaks her season record for most and least points in a game. The points scored in the first game establish her record for the season, and she begins counting from there.\n",
    "\n",
    "## Function Description\n",
    "\n",
    "The function `breakingRecords` has the following parameters:\n",
    "- **int scores[n]**: An array of integers where each integer represents the points scored by Maria in a game.\n",
    "\n",
    "The function should return an array with two integers:\n",
    "- The first integer represents the number of times she broke her record for the most points in a game.\n",
    "- The second integer represents the number of times she broke her record for the least points in a game.\n",
    "\n",
    "## Input Format:\n",
    "- The first line contains an integer `n`, the number of games.\n",
    "- The second line contains `n` space-separated integers representing the scores in each game.\n",
    "\n",
    "## Constraints:\n",
    "- `1 ≤ n ≤ 1000`\n",
    "- `0 ≤ scores[i] ≤ 10^6`\n",
    "\n",
    "## Sample Input 0:\n",
    "```\n",
    "9\n",
    "10 5 20 20 4 5 2 25 1\n",
    "```\n",
    "\n",
    "## Sample Output 0:\n",
    "```\n",
    "2 4\n",
    "```\n",
    "\n",
    "## Explanation:\n",
    "- Maria broke her best record **2 times** (after games 2 and 8).\n",
    "- Maria broke her worst record **4 times** (after games 1, 4, 5, and 7).\n"
   ]
  },
  {
   "cell_type": "code",
   "execution_count": 2,
   "metadata": {},
   "outputs": [
    {
     "name": "stdout",
     "output_type": "stream",
     "text": [
      "2 4\n"
     ]
    }
   ],
   "source": [
    "#!/bin/python3\n",
    "\n",
    "import math\n",
    "import os\n",
    "import random\n",
    "import re\n",
    "import sys\n",
    "\n",
    "#\n",
    "# Complete the 'breakingRecords' function below.\n",
    "#\n",
    "# The function is expected to return an INTEGER_ARRAY.\n",
    "# The function accepts INTEGER_ARRAY scores as parameter.\n",
    "#\n",
    "\n",
    "def breakingRecords(scores):\n",
    "    # Write your code here\n",
    "    max_score = scores[0]\n",
    "    min_score = scores[0]\n",
    "    records = [0, 0]  # [max_breaks, min_breaks]\n",
    "    \n",
    "    for score in scores[1:]:  # Start from second score since the first is the initial max and min\n",
    "        if score > max_score:\n",
    "            max_score = score\n",
    "            records[0] += 1\n",
    "        elif score < min_score:\n",
    "            min_score = score\n",
    "            records[1] += 1\n",
    "    \n",
    "    return records\n",
    "            \n",
    "if __name__ == '__main__':\n",
    "    # Simulación de entrada para probar el código\n",
    "    n = 9  # Número de puntajes\n",
    "    scores = [10, 5, 20, 20, 4, 5, 2, 25, 1]  # Lista de puntajes\n",
    "\n",
    "    result = breakingRecords(scores)\n",
    "\n",
    "    # Mostrar el resultado de la prueba simulada\n",
    "    print(' '.join(map(str, result)))\n"
   ]
  }
 ],
 "metadata": {
  "kernelspec": {
   "display_name": "Python 3",
   "language": "python",
   "name": "python3"
  },
  "language_info": {
   "codemirror_mode": {
    "name": "ipython",
    "version": 3
   },
   "file_extension": ".py",
   "mimetype": "text/x-python",
   "name": "python",
   "nbconvert_exporter": "python",
   "pygments_lexer": "ipython3",
   "version": "3.13.3"
  }
 },
 "nbformat": 4,
 "nbformat_minor": 2
}
