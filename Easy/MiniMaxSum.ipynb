{
 "cells": [
  {
   "cell_type": "markdown",
   "metadata": {},
   "source": [
    "\n",
    "# Problem: Mini-Max Sum\n",
    "\n",
    "Given five positive integers, find the minimum and maximum values that can be calculated by summing exactly four of the five integers. Then print the respective minimum and maximum values as a single line of two space-separated long integers.\n",
    "\n",
    "## Example\n",
    "\n",
    "```\n",
    "arr = [1, 3, 5, 7, 9]\n",
    "```\n",
    "\n",
    "The minimum sum is 1 + 3 + 5 + 7 = 16 and the maximum sum is 3 + 5 + 7 + 9 = 24. The function prints:\n",
    "\n",
    "```\n",
    "16 24\n",
    "```\n",
    "\n",
    "## Function Description\n",
    "\n",
    "Complete the `miniMaxSum` function with the following parameter(s):\n",
    "- **arr[5]**: an array of 5 integers\n",
    "\n",
    "**Print**:\n",
    "Print two space-separated integers on one line: the minimum sum and the maximum sum of 4 of 5 elements. No value should be returned.\n",
    "\n",
    "**Note**: For some languages, like C, C++, and Java, the sums may require that you use a long integer due to their size.\n",
    "\n",
    "## Input Format\n",
    "\n",
    "A single line of five space-separated integers.\n",
    "\n",
    "### Constraints:\n",
    "1 ≤ arr[i] ≤ 10^9\n",
    "\n",
    "## Sample Input\n",
    "```\n",
    "1 2 3 4 5\n",
    "```\n",
    "\n",
    "## Sample Output\n",
    "```\n",
    "10 14\n",
    "```\n",
    "\n",
    "### Explanation:\n",
    "The numbers are 1, 2, 3, 4, and 5. Calculate the following sums using four of the five integers:\n",
    "\n",
    "1. Sum everything except 1, the sum is 2 + 3 + 4 + 5 = 14.\n",
    "2. Sum everything except 2, the sum is 1 + 3 + 4 + 5 = 13.\n",
    "3. Sum everything except 3, the sum is 1 + 2 + 4 + 5 = 12.\n",
    "4. Sum everything except 4, the sum is 1 + 2 + 3 + 5 = 11.\n",
    "5. Sum everything except 5, the sum is 1 + 2 + 3 + 4 = 10.\n",
    "\n",
    "### Hints:\n",
    "Beware of integer overflow! Use a 64-bit integer to store the sums.\n"
   ]
  },
  {
   "cell_type": "code",
   "execution_count": 1,
   "metadata": {},
   "outputs": [
    {
     "name": "stdout",
     "output_type": "stream",
     "text": [
      "10 14\n"
     ]
    }
   ],
   "source": [
    "#!/bin/python3\n",
    "\n",
    "import math\n",
    "import os\n",
    "import random\n",
    "import re\n",
    "import sys\n",
    "\n",
    "#\n",
    "# Complete the 'miniMaxSum' function below.\n",
    "#\n",
    "# The function accepts INTEGER_ARRAY arr as parameter.\n",
    "#\n",
    "\n",
    "def miniMaxSum(arr):\n",
    "    # Write your code here\n",
    "    arr.sort()\n",
    "    print(str(sum(arr[:4])) + ' ' + str(sum(arr[len(arr)-4:])))\n",
    "\n",
    "if __name__ == '__main__':\n",
    "    # Definir directamente el arreglo\n",
    "    arr = [1, 2, 3, 4, 5]  # Ejemplo de lista\n",
    "\n",
    "    # Llamar a la función y obtener el resultado\n",
    "    miniMaxSum(arr)\n"
   ]
  }
 ],
 "metadata": {
  "kernelspec": {
   "display_name": "Python 3",
   "language": "python",
   "name": "python3"
  },
  "language_info": {
   "codemirror_mode": {
    "name": "ipython",
    "version": 3
   },
   "file_extension": ".py",
   "mimetype": "text/x-python",
   "name": "python",
   "nbconvert_exporter": "python",
   "pygments_lexer": "ipython3",
   "version": "3.13.3"
  }
 },
 "nbformat": 4,
 "nbformat_minor": 2
}
