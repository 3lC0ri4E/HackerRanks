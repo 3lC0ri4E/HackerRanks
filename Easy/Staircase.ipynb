{
 "cells": [
  {
   "cell_type": "markdown",
   "metadata": {},
   "source": [
    "\n",
    "# Problem: Staircase\n",
    "\n",
    "This is a staircase of size n = 4:\n",
    "\n",
    "```\n",
    "    #\n",
    "   ##\n",
    "  ###\n",
    " ####\n",
    "```\n",
    "\n",
    "Its base and height are both equal to n. It is drawn using # symbols and spaces. The last line is not preceded by any spaces.\n",
    "\n",
    "Write a program that prints a staircase of size n.\n",
    "\n",
    "## Function Description\n",
    "\n",
    "Complete the `staircase` function with the following parameter(s):\n",
    "- **int n**: an integer\n",
    "\n",
    "**Print**:\n",
    "Print a staircase as described above. No value should be returned.\n",
    "\n",
    "**Note**: The last line is not preceded by spaces. All lines are right-aligned.\n",
    "\n",
    "## Input Format\n",
    "\n",
    "A single integer, `n`, denoting the size of the staircase.\n",
    "\n",
    "### Constraints:\n",
    "0 < n ≤ 100\n",
    "\n",
    "## Sample Input\n",
    "```\n",
    "6\n",
    "```\n",
    "\n",
    "## Sample Output\n",
    "```\n",
    "     #\n",
    "    ##\n",
    "   ###\n",
    "  ####\n",
    " #####\n",
    "######\n",
    "```\n",
    "\n",
    "### Explanation:\n",
    "The staircase is right-aligned, composed of # symbols and spaces, and has a height and width of n = 6.\n"
   ]
  },
  {
   "cell_type": "code",
   "execution_count": 2,
   "metadata": {},
   "outputs": [
    {
     "name": "stdout",
     "output_type": "stream",
     "text": [
      "     #\n",
      "    ##\n",
      "   ###\n",
      "  ####\n",
      " #####\n",
      "######\n"
     ]
    }
   ],
   "source": [
    "#!/bin/python3\n",
    "\n",
    "import math\n",
    "import os\n",
    "import random\n",
    "import re\n",
    "import sys\n",
    "\n",
    "#\n",
    "# Complete the 'staircase' function below.\n",
    "#\n",
    "# The function accepts INTEGER n as parameter.\n",
    "#\n",
    "\n",
    "def staircase(n):\n",
    "    # Write your code here\n",
    "    for nh in range(1, n+1):\n",
    "        print(\" \" * (n - nh) + \"#\" * nh)\n",
    "\n",
    "if __name__ == '__main__':\n",
    "    # Definir directamente el valor de n\n",
    "    n = 6  # Ejemplo de tamaño de la escalera\n",
    "\n",
    "    # Llamar a la función y obtener el resultado\n",
    "    staircase(n)\n"
   ]
  }
 ],
 "metadata": {
  "kernelspec": {
   "display_name": "Python 3",
   "language": "python",
   "name": "python3"
  },
  "language_info": {
   "codemirror_mode": {
    "name": "ipython",
    "version": 3
   },
   "file_extension": ".py",
   "mimetype": "text/x-python",
   "name": "python",
   "nbconvert_exporter": "python",
   "pygments_lexer": "ipython3",
   "version": "3.13.3"
  }
 },
 "nbformat": 4,
 "nbformat_minor": 2
}
