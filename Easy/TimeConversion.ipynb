{
 "cells": [
  {
   "cell_type": "markdown",
   "metadata": {},
   "source": [
    "\n",
    "# Problem: Time Conversion\n",
    "\n",
    "Given a time in 12-hour AM/PM format, convert it to military (24-hour) time.\n",
    "\n",
    "**Note**:\n",
    "- 12:00:00AM on a 12-hour clock is 00:00:00 on a 24-hour clock.\n",
    "- 12:00:00PM on a 12-hour clock is 12:00:00 on a 24-hour clock.\n",
    "\n",
    "## Example\n",
    "\n",
    "```\n",
    "s = '12:01:00PM'\n",
    "```\n",
    "\n",
    "Return '12:01:00'.\n",
    "\n",
    "```\n",
    "s = '12:01:00AM'\n",
    "```\n",
    "\n",
    "Return '00:01:00'.\n",
    "\n",
    "## Function Description\n",
    "\n",
    "Complete the `timeConversion` function with the following parameter(s):\n",
    "- **string s**: a time in 12 hour format\n",
    "\n",
    "**Returns**:\n",
    "- **string**: the time in 24 hour format\n",
    "\n",
    "## Input Format\n",
    "\n",
    "A single string `s` that represents a time in 12-hour clock format (i.e.: hh:mm:ssAM or hh:mm:ssPM).\n",
    "\n",
    "### Constraints:\n",
    "- All input times are valid.\n",
    "\n",
    "## Sample Input\n",
    "```\n",
    "07:05:45PM\n",
    "```\n",
    "\n",
    "## Sample Output\n",
    "```\n",
    "19:05:45\n",
    "```\n"
   ]
  },
  {
   "cell_type": "code",
   "execution_count": 1,
   "metadata": {},
   "outputs": [
    {
     "name": "stdout",
     "output_type": "stream",
     "text": [
      "07:05:45PM\n",
      "19:05:45\n"
     ]
    }
   ],
   "source": [
    "#!/bin/python3\n",
    "\n",
    "import math\n",
    "import os\n",
    "import random\n",
    "import re\n",
    "import sys\n",
    "\n",
    "#\n",
    "# Complete the 'timeConversion' function below.\n",
    "#\n",
    "# The function is expected to return a STRING.\n",
    "# The function accepts STRING s as parameter.\n",
    "#\n",
    "\n",
    "def timeConversion(s):\n",
    "    # Write your code here\n",
    "    print(s)\n",
    "    \n",
    "    if 'PM' in s:\n",
    "        if s[:2] == '12':\n",
    "            mil_hour = '12' + s[2:8]\n",
    "        else:\n",
    "            mil_hour = str(int(s[:2]) + 12) + s[2:8]\n",
    "    elif 'AM' in s:\n",
    "        if s[:2] == '12':\n",
    "            mil_hour = '00' + s[2:8]\n",
    "        else:\n",
    "            mil_hour = s[:8]\n",
    "\n",
    "    return mil_hour\n",
    "\n",
    "if __name__ == '__main__':\n",
    "    # Definir directamente el valor de la hora en formato de 12 horas\n",
    "    s = '07:05:45PM'  # Ejemplo de hora en formato de 12 horas\n",
    "\n",
    "    # Llamar a la función y obtener el resultado\n",
    "    result = timeConversion(s)\n",
    "\n",
    "    # Imprimir el resultado en la consola\n",
    "    print(result)\n"
   ]
  }
 ],
 "metadata": {
  "kernelspec": {
   "display_name": "Python 3",
   "language": "python",
   "name": "python3"
  },
  "language_info": {
   "codemirror_mode": {
    "name": "ipython",
    "version": 3
   },
   "file_extension": ".py",
   "mimetype": "text/x-python",
   "name": "python",
   "nbconvert_exporter": "python",
   "pygments_lexer": "ipython3",
   "version": "3.13.3"
  }
 },
 "nbformat": 4,
 "nbformat_minor": 2
}
