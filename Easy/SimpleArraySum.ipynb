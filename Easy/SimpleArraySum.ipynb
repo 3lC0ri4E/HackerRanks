{
 "cells": [
  {
   "cell_type": "markdown",
   "metadata": {},
   "source": [
    "\n",
    "# Problem: Simple Array Sum\n",
    "\n",
    "Given an array of integers, find the sum of its elements.\n",
    "\n",
    "For example, if the array ar = [1, 2, 3], 1 + 2 + 3 = 6, so return 6.\n",
    "\n",
    "## Function Description\n",
    "\n",
    "Complete the `simpleArraySum` function with the following parameter(s):\n",
    "- **ar[n]**: an array of integers\n",
    "\n",
    "**Returns**:\n",
    "- **int**: the sum of the array elements\n",
    "\n",
    "## Input Format\n",
    "\n",
    "The first line contains an integer, `n`, denoting the size of the array.\n",
    "The second line contains `n` space-separated integers representing the array's elements.\n",
    "\n",
    "### Constraints:\n",
    "0 < n, ar[i] ≤ 1000\n",
    "\n",
    "## Sample Input\n",
    "```\n",
    "6\n",
    "1 2 3 4 10 11\n",
    "```\n",
    "\n",
    "## Sample Output\n",
    "```\n",
    "31\n",
    "```\n",
    "\n",
    "### Explanation:\n",
    "Print the sum of the array's elements: 1 + 2 + 3 + 4 + 10 + 11 = 31\n"
   ]
  },
  {
   "cell_type": "code",
   "execution_count": 2,
   "metadata": {},
   "outputs": [
    {
     "name": "stdout",
     "output_type": "stream",
     "text": [
      "211\n"
     ]
    }
   ],
   "source": [
    "#!/bin/python3\n",
    "\n",
    "import math\n",
    "import os\n",
    "import random\n",
    "import re\n",
    "import sys\n",
    "\n",
    "#\n",
    "# Complete the 'simpleArraySum' function below.\n",
    "#\n",
    "# The function is expected to return an INTEGER.\n",
    "# The function accepts INTEGER_ARRAY ar as parameter.\n",
    "#\n",
    "\n",
    "def simpleArraySum(ar):\n",
    "    # Write your code here\n",
    "    \n",
    "    suma = 0\n",
    "    for number in ar:\n",
    "        suma += number\n",
    "    return suma\n",
    "\n",
    "if __name__ == '__main__':\n",
    "    # Aquí puedes definir directamente los valores de entrada\n",
    "    ar_count = 4  # Número de elementos en el arreglo\n",
    "    ar = [73, 67, 38, 33]  # Los elementos del arreglo\n",
    "\n",
    "    # Llamar la función para obtener el resultado\n",
    "    result = simpleArraySum(ar)\n",
    "\n",
    "    # Imprimir el resultado en la consola\n",
    "    print(result)\n"
   ]
  }
 ],
 "metadata": {
  "kernelspec": {
   "display_name": "Python 3",
   "language": "python",
   "name": "python3"
  },
  "language_info": {
   "codemirror_mode": {
    "name": "ipython",
    "version": 3
   },
   "file_extension": ".py",
   "mimetype": "text/x-python",
   "name": "python",
   "nbconvert_exporter": "python",
   "pygments_lexer": "ipython3",
   "version": "3.13.3"
  }
 },
 "nbformat": 4,
 "nbformat_minor": 2
}
