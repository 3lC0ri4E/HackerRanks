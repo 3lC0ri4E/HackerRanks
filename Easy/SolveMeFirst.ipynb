{
 "cells": [
  {
   "cell_type": "markdown",
   "metadata": {},
   "source": [
    "\n",
    "# Problem: Solve Me First\n",
    "\n",
    "Complete the function `solveMeFirst` to compute the sum of two integers.\n",
    "\n",
    "## Example\n",
    "- `a = 7`\n",
    "- `b = 3`\n",
    "\n",
    "**Return** 10.\n",
    "\n",
    "## Function Description\n",
    "\n",
    "Complete the `solveMeFirst` function with the following parameters:\n",
    "- **int a**: the first value\n",
    "- **int b**: the second value\n",
    "\n",
    "**Returns**:\n",
    "- **int**: the sum of `a` and `b`\n",
    "\n",
    "### Constraints:\n",
    "1 ≤ a, b ≤ 1000\n",
    "\n",
    "## Sample Input\n",
    "```\n",
    "a = 2\n",
    "b = 3\n",
    "```\n",
    "\n",
    "## Sample Output\n",
    "```\n",
    "5\n",
    "```\n",
    "\n",
    "### Explanation:\n",
    "2 + 3 = 5\n"
   ]
  },
  {
   "cell_type": "code",
   "execution_count": 1,
   "metadata": {},
   "outputs": [
    {
     "name": "stdout",
     "output_type": "stream",
     "text": [
      "10\n"
     ]
    }
   ],
   "source": [
    "def solveMeFirst(a, b):\n",
    "    # Hint: Type return a + b below\n",
    "    return a + b\n",
    "\n",
    "# Definir los valores directamente en el código\n",
    "num1 = 7  # Ejemplo de primer número\n",
    "num2 = 3  # Ejemplo de segundo número\n",
    "\n",
    "# Llamar a la función y obtener el resultado\n",
    "res = solveMeFirst(num1, num2)\n",
    "\n",
    "# Imprimir el resultado en la consola\n",
    "print(res)\n"
   ]
  }
 ],
 "metadata": {
  "kernelspec": {
   "display_name": "Python 3",
   "language": "python",
   "name": "python3"
  },
  "language_info": {
   "codemirror_mode": {
    "name": "ipython",
    "version": 3
   },
   "file_extension": ".py",
   "mimetype": "text/x-python",
   "name": "python",
   "nbconvert_exporter": "python",
   "pygments_lexer": "ipython3",
   "version": "3.13.3"
  }
 },
 "nbformat": 4,
 "nbformat_minor": 2
}
