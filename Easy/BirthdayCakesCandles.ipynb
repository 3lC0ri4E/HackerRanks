{
 "cells": [
  {
   "cell_type": "markdown",
   "metadata": {},
   "source": [
    "\n",
    "# Problem: Birthday Cake Candles\n",
    "\n",
    "You are in charge of the cake for a child's birthday. It will have one candle for each year of their total age. They will only be able to blow out the tallest of the candles. Your task is to count how many candles are the tallest.\n",
    "\n",
    "## Example\n",
    "\n",
    "```\n",
    "candles = [4, 4, 1, 3]\n",
    "```\n",
    "\n",
    "The tallest candles are 4 units high. There are 2 candles with this height, so the function should return 2.\n",
    "\n",
    "## Function Description\n",
    "\n",
    "Complete the function `birthdayCakeCandles` with the following parameter(s):\n",
    "- **int candles[n]**: the candle heights\n",
    "\n",
    "**Returns**:\n",
    "- **int**: the number of candles that are tallest\n",
    "\n",
    "## Input Format\n",
    "\n",
    "The first line contains a single integer, `n`, the size of `candles[]`.\n",
    "The second line contains `n` space-separated integers, where each integer `i` describes the height of `candles[i]`.\n",
    "\n",
    "### Constraints:\n",
    "- 1 ≤ n ≤ 10^5\n",
    "- 1 ≤ candles[i] ≤ 10^7\n",
    "\n",
    "## Sample Input\n",
    "```\n",
    "4\n",
    "3 2 1 3\n",
    "```\n",
    "\n",
    "## Sample Output\n",
    "```\n",
    "2\n",
    "```\n",
    "\n",
    "### Explanation:\n",
    "Candle heights are [3, 2, 1, 3]. The tallest candles are 3 units, and there are 2 of them.\n"
   ]
  },
  {
   "cell_type": "code",
   "execution_count": 1,
   "metadata": {},
   "outputs": [
    {
     "name": "stdout",
     "output_type": "stream",
     "text": [
      "2\n"
     ]
    }
   ],
   "source": [
    "#!/bin/python3\n",
    "\n",
    "import math\n",
    "import os\n",
    "import random\n",
    "import re\n",
    "import sys\n",
    "\n",
    "#\n",
    "# Complete the 'birthdayCakeCandles' function below.\n",
    "#\n",
    "# The function is expected to return an INTEGER.\n",
    "# The function accepts INTEGER_ARRAY candles as parameter.\n",
    "#\n",
    "\n",
    "def birthdayCakeCandles(candles):\n",
    "    # Write your code here\n",
    "    max_height = max(candles)\n",
    "    return candles.count(max_height)\n",
    "\n",
    "if __name__ == '__main__':\n",
    "    # Definir directamente la lista de velas\n",
    "    candles = [4, 4, 1, 3]  # Ejemplo de alturas de las velas\n",
    "\n",
    "    # Llamar a la función y obtener el resultado\n",
    "    result = birthdayCakeCandles(candles)\n",
    "\n",
    "    # Imprimir el resultado en la consola\n",
    "    print(result)\n"
   ]
  }
 ],
 "metadata": {
  "kernelspec": {
   "display_name": "Python 3",
   "language": "python",
   "name": "python3"
  },
  "language_info": {
   "codemirror_mode": {
    "name": "ipython",
    "version": 3
   },
   "file_extension": ".py",
   "mimetype": "text/x-python",
   "name": "python",
   "nbconvert_exporter": "python",
   "pygments_lexer": "ipython3",
   "version": "3.13.3"
  }
 },
 "nbformat": 4,
 "nbformat_minor": 2
}
