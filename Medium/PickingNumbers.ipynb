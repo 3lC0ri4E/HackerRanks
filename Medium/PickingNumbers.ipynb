{
 "cells": [
  {
   "cell_type": "markdown",
   "metadata": {},
   "source": [
    "\n",
    "# Picking Numbers\n",
    "\n",
    "Given an array of integers, find the longest subarray where the absolute difference between any two elements is less than or equal to 1.\n",
    "\n",
    "## Function Description\n",
    "\n",
    "Complete the `pickingNumbers` function in the editor below. \n",
    "\n",
    "The function has the following parameter(s):\n",
    "\n",
    "* **int a[n]**: an array of integers\n",
    "\n",
    "The function should return an integer, the length of the longest subarray that meets the criterion.\n",
    "\n",
    "## Input Format\n",
    "\n",
    "- The first line contains a single integer `n`, the size of the array.\n",
    "- The second line contains `n` space-separated integers, each an element of the array.\n",
    "\n",
    "## Constraints\n",
    "\n",
    "- `1 ≤ n ≤ 100`\n",
    "- `0 ≤ a[i] ≤ 100`\n",
    "\n",
    "The answer will be an integer.\n",
    "\n",
    "## Sample Input 0\n",
    "\n",
    "```\n",
    "6\n",
    "4 6 5 3 3 1\n",
    "```\n",
    "\n",
    "## Sample Output 0\n",
    "\n",
    "```\n",
    "3\n",
    "```\n",
    "\n",
    "## Explanation 0\n",
    "\n",
    "We choose the following multiset of integers from the array: `[4, 3, 3]`. Each pair in the multiset has an absolute difference of 1 (i.e., `4-3` and `3-3`), so we print the number of chosen integers, `3`, as our answer.\n",
    "\n",
    "## Sample Input 1\n",
    "\n",
    "```\n",
    "6\n",
    "1 2 2 3 1 2\n",
    "```\n",
    "\n",
    "## Sample Output 1\n",
    "\n",
    "```\n",
    "5\n",
    "```\n",
    "\n",
    "## Explanation 1\n",
    "\n",
    "We choose the following multiset of integers from the array: `[1, 2, 2, 2, 1]`. Each pair in the multiset has an absolute difference of 1 (i.e., `2-1`, `2-2`, and `1-2`), so we print the number of chosen integers, `5`, as our answer.\n"
   ]
  },
  {
   "cell_type": "code",
   "execution_count": 1,
   "metadata": {},
   "outputs": [
    {
     "name": "stdout",
     "output_type": "stream",
     "text": [
      "3\n"
     ]
    }
   ],
   "source": [
    "#!/bin/python3\n",
    "\n",
    "import math\n",
    "import os\n",
    "import random\n",
    "import re\n",
    "import sys\n",
    "\n",
    "#\n",
    "# Complete the 'pickingNumbers' function below.\n",
    "#\n",
    "# The function is expected to return an INTEGER.\n",
    "# The function accepts INTEGER_ARRAY a as parameter.\n",
    "#\n",
    "\n",
    "def pickingNumbers(a):\n",
    "    # Write your code here\n",
    "    max_leng = 0\n",
    "    for i in range(min(a), max(a) + 1):\n",
    "        if i in a and i + 1 in a or i in a:\n",
    "            if a.count(i) + a.count(i + 1) > max_leng:\n",
    "                max_leng = a.count(i) + a.count(i + 1)\n",
    "    return max_leng\n",
    "\n",
    "if __name__ == '__main__':\n",
    "    # Simulación de entrada para probar el código\n",
    "    a = [4, 6, 5, 3, 3, 1]  # Lista de números\n",
    "\n",
    "    result = pickingNumbers(a)\n",
    "\n",
    "    # Mostrar el resultado de la prueba simulada\n",
    "    print(result)\n"
   ]
  }
 ],
 "metadata": {
  "kernelspec": {
   "display_name": "Python 3",
   "language": "python",
   "name": "python3"
  },
  "language_info": {
   "codemirror_mode": {
    "name": "ipython",
    "version": 3
   },
   "file_extension": ".py",
   "mimetype": "text/x-python",
   "name": "python",
   "nbconvert_exporter": "python",
   "pygments_lexer": "ipython3",
   "version": "3.13.3"
  }
 },
 "nbformat": 4,
 "nbformat_minor": 2
}
